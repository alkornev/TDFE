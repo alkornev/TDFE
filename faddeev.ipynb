{
 "cells": [
  {
   "cell_type": "code",
   "execution_count": 9,
   "metadata": {},
   "outputs": [
    {
     "name": "stdout",
     "output_type": "stream",
     "text": [
      "lapack_mkl_info:\n",
      "  NOT AVAILABLE\n",
      "openblas_lapack_info:\n",
      "    libraries = ['openblas', 'openblas']\n",
      "    library_dirs = ['/usr/local/lib']\n",
      "    language = c\n",
      "    define_macros = [('HAVE_CBLAS', None)]\n",
      "    runtime_library_dirs = ['/usr/local/lib']\n",
      "lapack_opt_info:\n",
      "    libraries = ['openblas', 'openblas']\n",
      "    library_dirs = ['/usr/local/lib']\n",
      "    language = c\n",
      "    define_macros = [('HAVE_CBLAS', None)]\n",
      "    runtime_library_dirs = ['/usr/local/lib']\n",
      "blas_mkl_info:\n",
      "  NOT AVAILABLE\n",
      "blis_info:\n",
      "  NOT AVAILABLE\n",
      "openblas_info:\n",
      "    libraries = ['openblas', 'openblas']\n",
      "    library_dirs = ['/usr/local/lib']\n",
      "    language = c\n",
      "    define_macros = [('HAVE_CBLAS', None)]\n",
      "    runtime_library_dirs = ['/usr/local/lib']\n",
      "blas_opt_info:\n",
      "    libraries = ['openblas', 'openblas']\n",
      "    library_dirs = ['/usr/local/lib']\n",
      "    language = c\n",
      "    define_macros = [('HAVE_CBLAS', None)]\n",
      "    runtime_library_dirs = ['/usr/local/lib']\n",
      "blas_mkl_info:\n",
      "  NOT AVAILABLE\n",
      "blis_info:\n",
      "  NOT AVAILABLE\n",
      "openblas_info:\n",
      "    libraries = ['openblas', 'openblas']\n",
      "    library_dirs = ['/usr/local/lib']\n",
      "    language = c\n",
      "    define_macros = [('HAVE_CBLAS', None)]\n",
      "    runtime_library_dirs = ['/usr/local/lib']\n",
      "blas_opt_info:\n",
      "    libraries = ['openblas', 'openblas']\n",
      "    library_dirs = ['/usr/local/lib']\n",
      "    language = c\n",
      "    define_macros = [('HAVE_CBLAS', None)]\n",
      "    runtime_library_dirs = ['/usr/local/lib']\n",
      "lapack_mkl_info:\n",
      "  NOT AVAILABLE\n",
      "openblas_lapack_info:\n",
      "    libraries = ['openblas', 'openblas']\n",
      "    library_dirs = ['/usr/local/lib']\n",
      "    language = c\n",
      "    define_macros = [('HAVE_CBLAS', None)]\n",
      "    runtime_library_dirs = ['/usr/local/lib']\n",
      "lapack_opt_info:\n",
      "    libraries = ['openblas', 'openblas']\n",
      "    library_dirs = ['/usr/local/lib']\n",
      "    language = c\n",
      "    define_macros = [('HAVE_CBLAS', None)]\n",
      "    runtime_library_dirs = ['/usr/local/lib']\n",
      "Supported SIMD extensions in this NumPy install:\n",
      "    baseline = SSE,SSE2,SSE3\n",
      "    found = SSSE3,SSE41,POPCNT,SSE42,AVX,F16C,FMA3,AVX2,AVX512F,AVX512CD,AVX512_SKX,AVX512_CLX,AVX512_CNL,AVX512_ICL\n",
      "    not found = AVX512_KNL\n"
     ]
    }
   ],
   "source": [
    "import scipy as sp\n",
    "import numpy as np\n",
    "import matplotlib.pyplot as plt\n",
    "from python.faddeev1D3B import ReducedFaddeev1D3B, Faddeev1D3B, MulticomponentRHS\n",
    "from python.plot import AnimationWF\n",
    "\n",
    "sp.show_config()\n",
    "np.show_config()"
   ]
  },
  {
   "cell_type": "code",
   "execution_count": 14,
   "metadata": {},
   "outputs": [
    {
     "name": "stdout",
     "output_type": "stream",
     "text": [
      "[1836.0, 1836.0, 1.0]\n",
      "3673.0\n",
      "[1.0, 1.0, 1.0000000000000002, 1.0, 1.0, 1.0000000000000002, 1.0000000000000004, 1.0000000000000004, 1.0]\n",
      "reduced mass: m1=1.9989112683723465, m2=1836.4998638714944\n",
      "index 0\n",
      "yvals\n",
      "reduced mass: m1=1.9989112683723465, m2=1836.4998638714944\n",
      "index 1\n",
      "yvals\n",
      "reduced mass: m1=1835.9999999999998, m2=1.9994554859787639\n",
      "index 2\n",
      "yvals\n",
      "[1836.0, 1836.0, 1.0]\n",
      "3673.0\n",
      "[1.0, 1.0, 1.0000000000000002, 1.0, 1.0, 1.0000000000000002, 1.0000000000000004, 1.0000000000000004, 1.0]\n",
      "[[ 882.17951366  876.04387457  871.55227502 ... -871.55227502\n",
      "  -876.04387457 -882.17951366]\n",
      " [ -51.70768403  -51.70779428  -51.70787499 ...   51.70787499\n",
      "    51.70779428   51.70768403]]\n"
     ]
    }
   ],
   "source": [
    "cut_x = 0.3\n",
    "cut_y = 0.1\n",
    "gr_x = np.vectorize(lambda x: x**3/(cut_x * cut_x) if x < cut_x else x)\n",
    "gr_y = np.vectorize(lambda x: x**3/(cut_y * cut_y) if abs(x) < cut_y  else x)\n",
    "\n",
    "N  = 20\n",
    "Nb = 20\n",
    "Ng = 10\n",
    "\n",
    "masses = [1836.0, 1836.0, 1.0]\n",
    "regulizers = [0.25, 0.25, 0.03]\n",
    "rhs =MulticomponentRHS(masses=masses)\n",
    "\n",
    "agx = 55*np.linspace(-1, 1, N)**3\n",
    "agy = 101*np.linspace(-1, 1, N)\n",
    "\n",
    "bgx = 55*np.linspace(-1, 1, Nb)**3\n",
    "bgy = 100*np.linspace(-1, 1, Nb)\n",
    "\n",
    "ggx = 10*np.linspace(-1, 1, Ng)\n",
    "ggy = 50*np.linspace(-1, 1, Ng)\n",
    "\n",
    "grids = [agx, agy, bgx, bgy, ggx, ggy]\n",
    "\n",
    "#h = Faddeev1D3B(grids, masses=masses, regulizers=regulizers)\n",
    "#h.init_fhamiltonian()\n",
    "hr = ReducedFaddeev1D3B(grids, masses=masses, regulizers=regulizers)\n",
    "hr.init_fhamiltonian()\n",
    "#sp.sparse.block_diag((h.alpha.laplace, h.beta.laplace,h.gamma.laplace))"
   ]
  },
  {
   "cell_type": "code",
   "execution_count": 3,
   "metadata": {},
   "outputs": [],
   "source": [
    "# from itertools import product\n",
    "\n",
    "# list(product(hr.alpha.spl_x.collocPoints, hr.alpha.spl_y.collocPoints))"
   ]
  },
  {
   "cell_type": "code",
   "execution_count": 100,
   "metadata": {},
   "outputs": [],
   "source": [
    "# rhs.convert_gridpoints(hr.beta, hr.alpha).T"
   ]
  },
  {
   "cell_type": "code",
   "execution_count": 4,
   "metadata": {},
   "outputs": [
    {
     "data": {
      "text/plain": [
       "array([[ 4.99795877e+01,  2.20359210e+01, -5.90774565e+00,\n",
       "        -3.38514123e+01, -6.17950790e+01, -8.97387456e+01,\n",
       "        -1.17682412e+02, -1.45626079e+02, -1.73569746e+02,\n",
       "        -2.01513412e+02],\n",
       "       [ 8.98092910e-04,  1.11196087e+00,  2.22302365e+00,\n",
       "         3.33408643e+00,  4.44514921e+00,  5.55621199e+00,\n",
       "         6.66727476e+00,  7.77833754e+00,  8.88940032e+00,\n",
       "         1.00004631e+01]])"
      ]
     },
     "execution_count": 4,
     "metadata": {},
     "output_type": "execute_result"
    }
   ],
   "source": [
    "rhs.transforms[0][2] @ np.vstack([ggx, ggy])"
   ]
  },
  {
   "cell_type": "code",
   "execution_count": 5,
   "metadata": {},
   "outputs": [
    {
     "data": {
      "text/plain": [
       "array([[-1.51533825e+01, -9.99591753e-01],\n",
       "       [ 1.00013612e+00, -1.79618582e-05]])"
      ]
     },
     "execution_count": 5,
     "metadata": {},
     "output_type": "execute_result"
    }
   ],
   "source": [
    "rhs.transforms[0][2]"
   ]
  },
  {
   "cell_type": "code",
   "execution_count": 6,
   "metadata": {},
   "outputs": [
    {
     "data": {
      "text/plain": [
       "array([[-1.51533825e+01,  9.99591753e-01],\n",
       "       [-1.00013612e+00, -1.79618582e-05]])"
      ]
     },
     "execution_count": 6,
     "metadata": {},
     "output_type": "execute_result"
    }
   ],
   "source": [
    "rhs.transforms[1][2]"
   ]
  },
  {
   "cell_type": "code",
   "execution_count": 119,
   "metadata": {},
   "outputs": [
    {
     "data": {
      "text/plain": [
       "array([[-5.44365814e-04,  1.00000000e+00],\n",
       "       [-9.99727817e-01, -5.00000000e-01]])"
      ]
     },
     "execution_count": 119,
     "metadata": {},
     "output_type": "execute_result"
    }
   ],
   "source": [
    "rhs.transforms[1][2]"
   ]
  },
  {
   "cell_type": "code",
   "execution_count": 8,
   "metadata": {},
   "outputs": [
    {
     "data": {
      "text/plain": [
       "array([[ 5.49664331e+01,  3.93708411e+01,  2.70450821e+01,\n",
       "         1.76044698e+01,  1.06643181e+01,  5.83994066e+00,\n",
       "         2.74665127e+00,  9.99763685e-01,  2.14591688e-01,\n",
       "         6.44903991e-03, -9.35049120e-03, -2.17493139e-01,\n",
       "        -1.00266514e+00, -2.74955272e+00, -5.84284212e+00,\n",
       "        -1.06672196e+01, -1.76073713e+01, -2.70479835e+01,\n",
       "        -3.93737425e+01, -5.49693345e+01],\n",
       "       [ 1.76804398e+03,  1.28868781e+03,  9.08497175e+02,\n",
       "         6.15805535e+02,  3.98946359e+02,  2.46253115e+02,\n",
       "         1.46059271e+02,  8.66982914e+01,  5.65036448e+01,\n",
       "         4.38087978e+01,  3.69472174e+01,  2.42523704e+01,\n",
       "        -5.94227611e+00, -6.53032553e+01, -1.65497100e+02,\n",
       "        -3.18190344e+02, -5.35049520e+02, -8.27741160e+02,\n",
       "        -1.20793180e+03, -1.68728797e+03]])"
      ]
     },
     "execution_count": 8,
     "metadata": {},
     "output_type": "execute_result"
    }
   ],
   "source": [
    "rhs.transforms[0][1] @ np.vstack([agx, agy])"
   ]
  },
  {
   "cell_type": "code",
   "execution_count": null,
   "metadata": {},
   "outputs": [],
   "source": [
    "rhs.transforms[1][2] @ np.vstack([bgx, bgy])"
   ]
  },
  {
   "cell_type": "code",
   "execution_count": 15,
   "metadata": {},
   "outputs": [
    {
     "name": "stdout",
     "output_type": "stream",
     "text": [
      "init\n",
      "lu\n",
      "<class 'scipy.sparse.csc.csc_matrix'>\n",
      "log\n"
     ]
    },
    {
     "ename": "ValueError",
     "evalue": "math domain error",
     "output_type": "error",
     "traceback": [
      "\u001b[0;31m---------------------------------------------------------------------------\u001b[0m",
      "\u001b[0;31mValueError\u001b[0m                                Traceback (most recent call last)",
      "\u001b[0;32m/var/folders/9j/rj279c8x09zfknrp0x7xqkz40000gp/T/ipykernel_47392/1289425592.py\u001b[0m in \u001b[0;36m<module>\u001b[0;34m\u001b[0m\n\u001b[0;32m----> 1\u001b[0;31m \u001b[0mevals\u001b[0m\u001b[0;34m,\u001b[0m \u001b[0mevec\u001b[0m \u001b[0;34m=\u001b[0m \u001b[0mh\u001b[0m\u001b[0;34m.\u001b[0m\u001b[0mexp_hamiltonian\u001b[0m\u001b[0;34m(\u001b[0m\u001b[0mdt\u001b[0m\u001b[0;34m=\u001b[0m\u001b[0;36m0.1\u001b[0m\u001b[0;34m,\u001b[0m \u001b[0mk\u001b[0m\u001b[0;34m=\u001b[0m\u001b[0;36m15\u001b[0m\u001b[0;34m)\u001b[0m\u001b[0;34m\u001b[0m\u001b[0;34m\u001b[0m\u001b[0m\n\u001b[0m\u001b[1;32m      2\u001b[0m \u001b[0mprint\u001b[0m\u001b[0;34m(\u001b[0m\u001b[0mevals\u001b[0m\u001b[0;34m)\u001b[0m\u001b[0;34m\u001b[0m\u001b[0;34m\u001b[0m\u001b[0m\n\u001b[1;32m      3\u001b[0m \u001b[0;31m#revals, revec = hr.exp_hamiltonian(dt=0.5, k=35, which='LM')\u001b[0m\u001b[0;34m\u001b[0m\u001b[0;34m\u001b[0m\u001b[0;34m\u001b[0m\u001b[0m\n\u001b[1;32m      4\u001b[0m \u001b[0;31m#print(revals)\u001b[0m\u001b[0;34m\u001b[0m\u001b[0;34m\u001b[0m\u001b[0;34m\u001b[0m\u001b[0m\n",
      "\u001b[0;32m~/physics/Faddeev/TDFE/python/faddeev1D3B.py\u001b[0m in \u001b[0;36mexp_hamiltonian\u001b[0;34m(self, dt, **kwargs)\u001b[0m\n\u001b[1;32m    330\u001b[0m             \u001b[0;32mfor\u001b[0m \u001b[0mi\u001b[0m \u001b[0;32min\u001b[0m \u001b[0mrange\u001b[0m\u001b[0;34m(\u001b[0m\u001b[0mlen\u001b[0m\u001b[0;34m(\u001b[0m\u001b[0mevals\u001b[0m\u001b[0;34m)\u001b[0m\u001b[0;34m)\u001b[0m\u001b[0;34m:\u001b[0m\u001b[0;34m\u001b[0m\u001b[0;34m\u001b[0m\u001b[0m\n\u001b[1;32m    331\u001b[0m                 \u001b[0mnorm\u001b[0m \u001b[0;34m=\u001b[0m \u001b[0msp\u001b[0m\u001b[0;34m.\u001b[0m\u001b[0mdot\u001b[0m\u001b[0;34m(\u001b[0m\u001b[0mevecs\u001b[0m\u001b[0;34m[\u001b[0m\u001b[0;34m:\u001b[0m\u001b[0;34m,\u001b[0m \u001b[0mi\u001b[0m\u001b[0;34m]\u001b[0m\u001b[0;34m,\u001b[0m \u001b[0mself\u001b[0m\u001b[0;34m.\u001b[0m\u001b[0mnMatr\u001b[0m \u001b[0;34m@\u001b[0m \u001b[0mevecs\u001b[0m\u001b[0;34m[\u001b[0m\u001b[0;34m:\u001b[0m\u001b[0;34m,\u001b[0m \u001b[0mi\u001b[0m\u001b[0;34m]\u001b[0m\u001b[0;34m)\u001b[0m\u001b[0;34m\u001b[0m\u001b[0;34m\u001b[0m\u001b[0m\n\u001b[0;32m--> 332\u001b[0;31m                 \u001b[0mevecs\u001b[0m\u001b[0;34m[\u001b[0m\u001b[0;34m:\u001b[0m\u001b[0;34m,\u001b[0m \u001b[0mi\u001b[0m\u001b[0;34m]\u001b[0m \u001b[0;34m=\u001b[0m \u001b[0mevecs\u001b[0m\u001b[0;34m[\u001b[0m\u001b[0;34m:\u001b[0m\u001b[0;34m,\u001b[0m \u001b[0mi\u001b[0m\u001b[0;34m]\u001b[0m \u001b[0;34m/\u001b[0m \u001b[0mmath\u001b[0m\u001b[0;34m.\u001b[0m\u001b[0msqrt\u001b[0m\u001b[0;34m(\u001b[0m\u001b[0mnorm\u001b[0m\u001b[0;34m)\u001b[0m\u001b[0;34m\u001b[0m\u001b[0;34m\u001b[0m\u001b[0m\n\u001b[0m\u001b[1;32m    333\u001b[0m                 \u001b[0mphasenorm\u001b[0m \u001b[0;34m=\u001b[0m \u001b[0mself\u001b[0m\u001b[0;34m.\u001b[0m\u001b[0msplinef\u001b[0m\u001b[0;34m(\u001b[0m\u001b[0mevecs\u001b[0m\u001b[0;34m[\u001b[0m\u001b[0;34m:\u001b[0m\u001b[0;34m,\u001b[0m \u001b[0mi\u001b[0m\u001b[0;34m]\u001b[0m\u001b[0;34m,\u001b[0m \u001b[0;36m1.0\u001b[0m\u001b[0;34m,\u001b[0m \u001b[0;36m0.0\u001b[0m\u001b[0;34m,\u001b[0m \u001b[0midx\u001b[0m\u001b[0;34m=\u001b[0m\u001b[0;36m2\u001b[0m\u001b[0;34m)\u001b[0m\u001b[0;34m\u001b[0m\u001b[0;34m\u001b[0m\u001b[0m\n\u001b[1;32m    334\u001b[0m                 \u001b[0mphasenorm\u001b[0m \u001b[0;34m=\u001b[0m \u001b[0mphasenorm\u001b[0m \u001b[0;34m/\u001b[0m \u001b[0mabs\u001b[0m\u001b[0;34m(\u001b[0m\u001b[0mphasenorm\u001b[0m\u001b[0;34m)\u001b[0m\u001b[0;34m\u001b[0m\u001b[0;34m\u001b[0m\u001b[0m\n",
      "\u001b[0;31mValueError\u001b[0m: math domain error"
     ]
    }
   ],
   "source": [
    "evals, evec = h.exp_hamiltonian(dt=0.1, k=15)\n",
    "print(evals)\n",
    "#revals, revec = hr.exp_hamiltonian(dt=0.5, k=35, which='LM')\n",
    "#print(revals)"
   ]
  },
  {
   "cell_type": "code",
   "execution_count": null,
   "metadata": {},
   "outputs": [],
   "source": [
    "h = Faddeev1D3B(grids, regulizers=regulizers)\n",
    "h.init_fhamiltonian()\n",
    "\n",
    "evals, evec = h.precondition_hamiltonian(lE=-0.66, rE=-0.58, debug=True, k=1, which='LM')\n",
    "print(evals)"
   ]
  },
  {
   "cell_type": "code",
   "execution_count": 103,
   "metadata": {},
   "outputs": [
    {
     "name": "stderr",
     "output_type": "stream",
     "text": [
      "/Users/Aleksei_Kornev2/physics/Faddeev/TDFE/venv/lib/python3.7/site-packages/ipykernel_launcher.py:26: UserWarning: The following kwargs were not used by contour: 'cvals'\n"
     ]
    },
    {
     "data": {
      "text/plain": [
       "<matplotlib.colorbar.Colorbar at 0x1304ceed0>"
      ]
     },
     "execution_count": 103,
     "metadata": {},
     "output_type": "execute_result"
    },
    {
     "data": {
      "image/png": "[encoded data removed]",
      "text/plain": [
       "<Figure size 864x360 with 2 Axes>"
      ]
     },
     "metadata": {
      "needs_background": "light"
     },
     "output_type": "display_data"
    }
   ],
   "source": [
    "fig = plt.figure(figsize=(12,5))\n",
    "\n",
    "x = np.linspace(-25, 25, 105)\n",
    "y = np.linspace(-25, 25, 105)\n",
    "X, Y = np.meshgrid(x, y)\n",
    "\n",
    "\n",
    "cvals = np.linspace(0, 1, 100)\n",
    "\n",
    "n_state = 0\n",
    "coefs = revec[:, n_state].copy()\n",
    "#print(np.sum(coefs[:hr.alpha.dim]))\n",
    "#print(np.zeros(h.alpha.dim))\n",
    "\n",
    "#print(np.allclose(coefs[:h.alpha.dim], np.zeros(h.alpha.dim), atol=1e-8))\n",
    "#coefs[h.alpha.dim:] = 0\n",
    "#coefs[:h.alpha.dim] = 0\n",
    "#coefs[h.alpha.dim+h.beta.dim:] = 0\n",
    "\n",
    "\n",
    "psi = np.array([[hr.splinef(coefs, xi, yi, idx=1) for xi in x] for yi in y])\n",
    "psi_real = np.real(psi)\n",
    "psi_imag = np.imag(psi)\n",
    "psi_ampl = np.abs(psi)\n",
    "\n",
    "contour1 = plt.contour(X, Y, psi_ampl, cvals=cvals)\n",
    "fig.colorbar(contour1)"
   ]
  },
  {
   "cell_type": "code",
   "execution_count": 104,
   "metadata": {},
   "outputs": [
    {
     "name": "stderr",
     "output_type": "stream",
     "text": [
      "/Users/Aleksei_Kornev2/physics/Faddeev/TDFE/venv/lib/python3.7/site-packages/ipykernel_launcher.py:19: UserWarning: The following kwargs were not used by contour: 'cvals'\n"
     ]
    },
    {
     "data": {
      "text/plain": [
       "<matplotlib.colorbar.Colorbar at 0x1563ddad0>"
      ]
     },
     "execution_count": 104,
     "metadata": {},
     "output_type": "execute_result"
    },
    {
     "data": {
      "image/png": "[encoded data removed]",
      "text/plain": [
       "<Figure size 864x360 with 2 Axes>"
      ]
     },
     "metadata": {
      "needs_background": "light"
     },
     "output_type": "display_data"
    }
   ],
   "source": [
    "fig = plt.figure(figsize=(12,5))\n",
    "\n",
    "x = np.linspace(-25, 25, 55)\n",
    "y = np.linspace(-25, 25, 55)\n",
    "X, Y = np.meshgrid(x, y)\n",
    "\n",
    "cvals = np.linspace(0, 1, 100)\n",
    "\n",
    "coefs = revec[:, n_state].copy()\n",
    "# coefs[:h.alpha.dim] = 0\n",
    "# coefs[h.alpha.dim+h.beta.dim:] = 0\n",
    "\n",
    "\n",
    "psi = np.array([[hr.splinef(coefs, xi, yi, idx=1) for xi in x] for yi in y])\n",
    "psi_real = np.real(psi)\n",
    "psi_imag = np.imag(psi)\n",
    "psi_ampl = np.abs(psi)\n",
    "\n",
    "contour1 = plt.contour(X, Y, psi_ampl, cvals=cvals)\n",
    "fig.colorbar(contour1)"
   ]
  },
  {
   "cell_type": "code",
   "execution_count": 106,
   "metadata": {},
   "outputs": [
    {
     "name": "stderr",
     "output_type": "stream",
     "text": [
      "/Users/Aleksei_Kornev2/physics/Faddeev/TDFE/venv/lib/python3.7/site-packages/ipykernel_launcher.py:21: UserWarning: The following kwargs were not used by contour: 'cvals'\n"
     ]
    },
    {
     "data": {
      "text/plain": [
       "<matplotlib.colorbar.Colorbar at 0x15658fa90>"
      ]
     },
     "execution_count": 106,
     "metadata": {},
     "output_type": "execute_result"
    },
    {
     "data": {
      "image/png": "[encoded data removed]",
      "text/plain": [
       "<Figure size 864x360 with 2 Axes>"
      ]
     },
     "metadata": {
      "needs_background": "light"
     },
     "output_type": "display_data"
    }
   ],
   "source": [
    "fig = plt.figure(figsize=(12,5))\n",
    "\n",
    "x = np.linspace(-15, 15, 105)\n",
    "y = np.linspace(-15, 15, 105)\n",
    "X, Y = np.meshgrid(x, y)\n",
    "\n",
    "\n",
    "cvals = np.linspace(0, 1, 100)\n",
    "n_state = 0\n",
    "coefs = revec[:, n_state].copy()\n",
    "#coefs = evec[:, n_state].copy()\n",
    "#coefs[:h.alpha.dim] = 0\n",
    "#coefs[h.alpha.dim+h.beta.dim:] = 0\n",
    "\n",
    "\n",
    "psi = np.array([[hr.splinef(coefs, xi, yi, idx=2) for xi in x] for yi in y])\n",
    "psi_real = np.real(psi)\n",
    "psi_imag = np.imag(psi)\n",
    "psi_ampl = np.abs(psi)\n",
    "\n",
    "contour1 = plt.contour(X, Y, psi_ampl, cvals=cvals)\n",
    "fig.colorbar(contour1)"
   ]
  },
  {
   "cell_type": "code",
   "execution_count": null,
   "metadata": {},
   "outputs": [],
   "source": []
  }
 ],
 "metadata": {
  "interpreter": {
   "hash": "f3f2fbb322cb053f31c9cafe26c9fea574d535cbb59c7534eb68160168429f5a"
  },
  "kernelspec": {
   "display_name": "Python 3.7.11 ('venv': venv)",
   "language": "python",
   "name": "python3"
  },
  "language_info": {
   "codemirror_mode": {
    "name": "ipython",
    "version": 3
   },
   "file_extension": ".py",
   "mimetype": "text/x-python",
   "name": "python",
   "nbconvert_exporter": "python",
   "pygments_lexer": "ipython3",
   "version": "3.7.11"
  },
  "orig_nbformat": 4
 },
 "nbformat": 4,
 "nbformat_minor": 2
}
