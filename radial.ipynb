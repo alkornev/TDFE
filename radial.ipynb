{
 "cells": [
  {
   "cell_type": "code",
   "execution_count": 26,
   "metadata": {},
   "outputs": [
    {
     "name": "stdout",
     "output_type": "stream",
     "text": [
      "lapack_mkl_info:\n",
      "  NOT AVAILABLE\n",
      "openblas_lapack_info:\n",
      "    libraries = ['openblas', 'openblas']\n",
      "    library_dirs = ['/usr/local/lib']\n",
      "    language = c\n",
      "    define_macros = [('HAVE_CBLAS', None)]\n",
      "    runtime_library_dirs = ['/usr/local/lib']\n",
      "lapack_opt_info:\n",
      "    libraries = ['openblas', 'openblas']\n",
      "    library_dirs = ['/usr/local/lib']\n",
      "    language = c\n",
      "    define_macros = [('HAVE_CBLAS', None)]\n",
      "    runtime_library_dirs = ['/usr/local/lib']\n",
      "blas_mkl_info:\n",
      "  NOT AVAILABLE\n",
      "blis_info:\n",
      "  NOT AVAILABLE\n",
      "openblas_info:\n",
      "    libraries = ['openblas', 'openblas']\n",
      "    library_dirs = ['/usr/local/lib']\n",
      "    language = c\n",
      "    define_macros = [('HAVE_CBLAS', None)]\n",
      "    runtime_library_dirs = ['/usr/local/lib']\n",
      "blas_opt_info:\n",
      "    libraries = ['openblas', 'openblas']\n",
      "    library_dirs = ['/usr/local/lib']\n",
      "    language = c\n",
      "    define_macros = [('HAVE_CBLAS', None)]\n",
      "    runtime_library_dirs = ['/usr/local/lib']\n",
      "blas_mkl_info:\n",
      "  NOT AVAILABLE\n",
      "blis_info:\n",
      "  NOT AVAILABLE\n",
      "openblas_info:\n",
      "    libraries = ['openblas', 'openblas']\n",
      "    library_dirs = ['/usr/local/lib']\n",
      "    language = c\n",
      "    define_macros = [('HAVE_CBLAS', None)]\n",
      "    runtime_library_dirs = ['/usr/local/lib']\n",
      "blas_opt_info:\n",
      "    libraries = ['openblas', 'openblas']\n",
      "    library_dirs = ['/usr/local/lib']\n",
      "    language = c\n",
      "    define_macros = [('HAVE_CBLAS', None)]\n",
      "    runtime_library_dirs = ['/usr/local/lib']\n",
      "lapack_mkl_info:\n",
      "  NOT AVAILABLE\n",
      "openblas_lapack_info:\n",
      "    libraries = ['openblas', 'openblas']\n",
      "    library_dirs = ['/usr/local/lib']\n",
      "    language = c\n",
      "    define_macros = [('HAVE_CBLAS', None)]\n",
      "    runtime_library_dirs = ['/usr/local/lib']\n",
      "lapack_opt_info:\n",
      "    libraries = ['openblas', 'openblas']\n",
      "    library_dirs = ['/usr/local/lib']\n",
      "    language = c\n",
      "    define_macros = [('HAVE_CBLAS', None)]\n",
      "    runtime_library_dirs = ['/usr/local/lib']\n",
      "Supported SIMD extensions in this NumPy install:\n",
      "    baseline = SSE,SSE2,SSE3\n",
      "    found = SSSE3,SSE41,POPCNT,SSE42,AVX,F16C,FMA3,AVX2,AVX512F,AVX512CD,AVX512_SKX,AVX512_CLX,AVX512_CNL,AVX512_ICL\n",
      "    not found = AVX512_KNL\n"
     ]
    }
   ],
   "source": [
    "import scipy as sp\n",
    "import numpy as np\n",
    "import matplotlib.pyplot as plt\n",
    "from python.radial import RadialEquation\n",
    "from python.plot import AnimationWF\n",
    "\n",
    "sp.show_config()\n",
    "np.show_config()\n",
    "\n",
    "gx = np.sin(np.linspace(0, np.pi/2, 200))\n",
    "uniform = 100 * np.linspace(0, 1, 50)"
   ]
  },
  {
   "cell_type": "code",
   "execution_count": 27,
   "metadata": {},
   "outputs": [
    {
     "name": "stdout",
     "output_type": "stream",
     "text": [
      "reduced mass: 1.9989112683723462\n",
      "laplace is ready\n",
      "potential is ready\n",
      "[[1.         0.         0.         ... 0.         0.         0.        ]\n",
      " [0.         1.         0.         ... 0.         0.         0.        ]\n",
      " [0.         0.         0.99993769 ... 0.         0.         0.        ]\n",
      " ...\n",
      " [0.         0.         0.         ... 0.01183999 0.         0.        ]\n",
      " [0.         0.         0.         ... 0.         0.00394674 0.        ]\n",
      " [0.         0.         0.         ... 0.         0.         0.00394674]]\n",
      "[[ 1.87144388e+005 -7.55997831e+004  2.03548066e+004 ... -2.54855734e-220\n",
      "   1.17578772e-220 -3.15051370e-221]\n",
      " [-7.55997831e+004  1.15254744e+005 -7.59651725e+004 ...  9.51134548e-220\n",
      "  -4.38809951e-220  1.17578772e-220]\n",
      " [ 2.03548066e+004 -7.59651725e+004  1.12647726e+005 ... -2.61689762e-219\n",
      "   1.20731680e-219 -3.23499561e-220]\n",
      " ...\n",
      " [-2.54855734e-220  9.51134548e-220 -2.61689762e-219 ...  1.25795579e+007\n",
      "  -9.55808265e+006  2.56108053e+006]\n",
      " [ 1.17578772e-220 -4.38809951e-220  1.20731680e-219 ... -9.55808265e+006\n",
      "   1.94466409e+007 -1.65409011e+007]\n",
      " [-3.15051370e-221  1.17578772e-220 -3.23499561e-220 ...  2.56108053e+006\n",
      "  -1.65409011e+007  4.67169634e+007]]\n"
     ]
    }
   ],
   "source": [
    "h = RadialEquation(gx)\n",
    "h.init_hamiltonian()\n",
    "p = np.diag(h.p)[::2]"
   ]
  },
  {
   "cell_type": "code",
   "execution_count": 30,
   "metadata": {},
   "outputs": [
    {
     "data": {
      "text/plain": [
       "[<matplotlib.lines.Line2D at 0x11ff8e650>]"
      ]
     },
     "execution_count": 30,
     "metadata": {},
     "output_type": "execute_result"
    },
    {
     "data": {
      "image/png": "[encoded data removed]",
      "text/plain": [
       "<Figure size 432x288 with 1 Axes>"
      ]
     },
     "metadata": {
      "needs_background": "light"
     },
     "output_type": "display_data"
    }
   ],
   "source": [
    "plt.plot(2/np.pi * np.arccos(p))"
   ]
  },
  {
   "cell_type": "code",
   "execution_count": 4,
   "metadata": {},
   "outputs": [
    {
     "name": "stdout",
     "output_type": "stream",
     "text": [
      "[-0.15663347 -0.01988925 -0.00497668  0.63458767]\n"
     ]
    },
    {
     "name": "stderr",
     "output_type": "stream",
     "text": [
      "/Users/Aleksei_Kornev2/physics/Faddeev/TDFE/venv/lib/python3.7/site-packages/scipy/sparse/linalg/eigen/arpack/arpack.py:1595: RuntimeWarning: k >= N for N * N square matrix. Attempting to use scipy.linalg.eigh instead.\n",
      "  RuntimeWarning)\n"
     ]
    }
   ],
   "source": [
    "evals, evecs= h.eigs()\n",
    "print(evals)"
   ]
  },
  {
   "cell_type": "code",
   "execution_count": 18,
   "metadata": {},
   "outputs": [
    {
     "name": "stdout",
     "output_type": "stream",
     "text": [
      "reduced mass: 1.9989112683723462\n",
      "laplace is ready\n",
      "potential is ready\n"
     ]
    }
   ],
   "source": [
    "h.init_default()\n"
   ]
  },
  {
   "cell_type": "code",
   "execution_count": 19,
   "metadata": {},
   "outputs": [
    {
     "data": {
      "text/plain": [
       "array([[  1.6430732 ,   0.11509982,  -0.44026014,   0.        ],\n",
       "       [  0.44026014,   0.88490018,  -1.6430732 ,   0.        ],\n",
       "       [  0.        ,   0.88490018,  11.50151238,  -3.08182095],\n",
       "       [  0.        ,   0.11509982,   3.08182095, -11.50151238]])"
      ]
     },
     "execution_count": 19,
     "metadata": {},
     "output_type": "execute_result"
    }
   ],
   "source": [
    "h.ident.toarray()"
   ]
  },
  {
   "cell_type": "code",
   "execution_count": 20,
   "metadata": {},
   "outputs": [
    {
     "data": {
      "text/plain": [
       "array([[-0.21856406,  0.02217025, -0.05856406,  0.        ],\n",
       "       [ 0.05856406, -0.02217025,  0.21856406,  0.        ],\n",
       "       [ 0.        , -0.00045245, -0.03122344, -0.00836629],\n",
       "       [ 0.        ,  0.00045245,  0.00836629,  0.03122344]])"
      ]
     },
     "execution_count": 20,
     "metadata": {},
     "output_type": "execute_result"
    }
   ],
   "source": [
    "h.ddx.toarray()"
   ]
  },
  {
   "cell_type": "code",
   "execution_count": 21,
   "metadata": {},
   "outputs": [
    {
     "data": {
      "text/plain": [
       "array([[ 0.63373067, -0.09373067,  0.01170879, -0.00313736],\n",
       "       [-0.27451905,  1.02451905,  0.14635986, -0.03921701],\n",
       "       [ 0.02196152, -0.08196152,  0.08196152, -0.02196152],\n",
       "       [ 0.00313736, -0.01170879,  0.0234262 , -0.09322212]])"
      ]
     },
     "execution_count": 21,
     "metadata": {},
     "output_type": "execute_result"
    }
   ],
   "source": [
    "ident_inv = sp.sparse.linalg.inv(h.ident).toarray()\n",
    "ident_inv"
   ]
  },
  {
   "cell_type": "code",
   "execution_count": 42,
   "metadata": {},
   "outputs": [
    {
     "name": "stdout",
     "output_type": "stream",
     "text": [
      "[[-0.14588306  0.048      -0.00411429  0.00110242]\n",
      " [ 0.048      -0.04611694  0.01535472 -0.00411429]\n",
      " [-0.00116342  0.00434194 -0.00558462  0.00293625]\n",
      " [-0.00058485  0.00218267 -0.00550866  0.01155738]]\n"
     ]
    }
   ],
   "source": [
    "row = h.ddx @ ident_inv[0, :]\n",
    "col = h.ddx @ ident_inv[:, 0]\n",
    "\n",
    "ddx_new = h.ddx @ ident_inv\n",
    "\n",
    "diag = np.zeros(ddx_new.shape[0])\n",
    "diag[0] = diag[1] = 1\n",
    "for i in range(2, ddx_new.shape[0]):\n",
    "    diag[i] = col[i]/row[i]\n",
    "p = np.diag(diag)\n",
    "\n",
    "print((p @ h.ddx @ ident_inv))"
   ]
  },
  {
   "cell_type": "code",
   "execution_count": 43,
   "metadata": {},
   "outputs": [
    {
     "name": "stdout",
     "output_type": "stream",
     "text": [
      "[[-0.14588306  0.048      -0.00411429  0.00110242]\n",
      " [ 0.048      -0.04611694  0.01535472 -0.00411429]\n",
      " [-0.00116342  0.00434194 -0.00558462  0.00293625]\n",
      " [-0.00058485  0.00218267 -0.00550866  0.01155738]]\n"
     ]
    }
   ],
   "source": [
    "print((p @ h.ddx @ ident_inv))"
   ]
  },
  {
   "cell_type": "code",
   "execution_count": 2,
   "metadata": {},
   "outputs": [
    {
     "name": "stdout",
     "output_type": "stream",
     "text": [
      "reduced mass: 1.9989112683723462\n",
      "laplace is ready\n",
      "potential is ready\n",
      "reduced mass: 1.9989112683723462\n",
      "laplace is ready\n",
      "potential is ready\n",
      "(398, 398)\n",
      "default collocation\n"
     ]
    },
    {
     "name": "stderr",
     "output_type": "stream",
     "text": [
      "/Users/Aleksei_Kornev2/physics/Faddeev/TDFE/python/radial.py:125: ComplexWarning: Casting complex values to real discards the imaginary part\n",
      "  evecs[:, i] = evecs[:, i] / math.sqrt(norm)\n"
     ]
    },
    {
     "name": "stdout",
     "output_type": "stream",
     "text": [
      "[-0.12493197+0.j -0.03123299+0.j -0.01388133+0.j]\n",
      "modified\n",
      "[-0.12493195 -0.03123299 -0.01388133 -0.00779674 -0.00446153]\n"
     ]
    }
   ],
   "source": [
    "h_uniform = RadialEquation(uniform)\n",
    "print(h.ident.shape)\n",
    "h.init_default()\n",
    "print(\"default collocation\")\n",
    "evals, evecs = h.exp_hamiltonian(dt=0.01, k=3, which='LM')\n",
    "print(evals)\n",
    "#print(h.h[3, :20].toarray())\n",
    "#print(h.h[:20, 3].toarray())\n",
    "\n",
    "print(\"modified\")\n",
    "h.init_hamiltonian()\n",
    "evals, evecs = h.eigs(k=5, sigma=-0.6)\n",
    "print(evals)"
   ]
  },
  {
   "cell_type": "code",
   "execution_count": 3,
   "metadata": {},
   "outputs": [],
   "source": [
    "s_inv = sp.sparse.linalg.inv(h.ident)"
   ]
  },
  {
   "cell_type": "code",
   "execution_count": 4,
   "metadata": {},
   "outputs": [],
   "source": [
    "ddx_new = (h.ddx @ s_inv).toarray()"
   ]
  },
  {
   "cell_type": "code",
   "execution_count": 51,
   "metadata": {},
   "outputs": [],
   "source": [
    "fixed = p @ ddx_new"
   ]
  },
  {
   "cell_type": "code",
   "execution_count": 53,
   "metadata": {},
   "outputs": [
    {
     "name": "stdout",
     "output_type": "stream",
     "text": [
      "[  145461.7331  -542870.5786  1551569.8426 -1949392.2895   996546.9348\n",
      "  -177050.3315    48584.9399    -8890.7632     2635.1285     -490.9265\n",
      "      151.8979      -28.639         9.1068       -1.7317        0.5612\n",
      "       -0.1074        0.0353       -0.0068        0.0023       -0.0004]\n",
      "[  145461.7331  -542870.5786  1551569.8426 -1949392.2895   996546.9348\n",
      "  -177050.3315    48584.9399    -8890.7632     2635.1285     -490.9265\n",
      "      151.8979      -28.639         9.1068       -1.7317        0.5612\n",
      "       -0.1074        0.0353       -0.0068        0.0023       -0.0004]\n"
     ]
    }
   ],
   "source": [
    "print(fixed[:, 3])\n",
    "print(fixed[3, :20])"
   ]
  },
  {
   "cell_type": "code",
   "execution_count": 5,
   "metadata": {},
   "outputs": [],
   "source": [
    "diagonal = [1, 1]\n",
    "for i in range(2, ddx_new.shape[0]):\n",
    "    diagonal.append(ddx_new[0][i]/ddx_new[i][0])\n",
    "diagonal = np.array(diagonal)\n",
    "p = np.diag(diagonal)"
   ]
  },
  {
   "cell_type": "code",
   "execution_count": 6,
   "metadata": {},
   "outputs": [
    {
     "name": "stdout",
     "output_type": "stream",
     "text": [
      "pow 3, delta -1.3265339363410789e-05\n",
      "-1.3265075408830374e-05\n",
      "-1.9896953239895154e-05\n",
      "-2.65280392505729e-05\n",
      "-3.315806955078715e-05\n",
      "-3.9786780292538904e-05\n",
      "-4.641390767917697e-05\n",
      "-5.3039187975501e-05\n",
      "-5.966235752502547e-05\n",
      "-6.628315274964658e-05\n",
      "-7.290131016779444e-05\n",
      "-7.951656640570182e-05\n",
      "-8.612865819646043e-05\n",
      "-9.273732241893429e-05\n",
      "-9.934229605584877e-05\n",
      "-0.00010594331627178377\n",
      "-0.00011254012036143735\n",
      "-0.00011913244580424864\n",
      "-0.00012572003024696743\n",
      "-0.00013230261153751588\n",
      "-0.00013887992770872382\n",
      "-0.0001454517170116909\n",
      "-0.0001520177179153981\n",
      "-0.00015857766912025228\n",
      "-0.00016513130956291588\n",
      "-0.00017167837844295208\n",
      "-0.00017821861519756732\n",
      "-0.00018475175956988998\n",
      "-0.00019127755155501358\n",
      "-0.00019779573145395357\n",
      "-0.00020430603986920648\n",
      "-0.00021080821771746194\n",
      "-0.00021730200624614504\n",
      "-0.0002237871470075481\n",
      "-0.00023026338194587215\n",
      "-0.00023673045331262799\n",
      "-0.00024318810374479582\n",
      "-0.00024963607625894113\n",
      "-0.00025607411425376814\n",
      "-0.0002625019615174473\n",
      "-0.0002689193622550379\n",
      "-0.0002753260610637853\n",
      "-0.00028172180299934624\n",
      "-0.0002881063335189449\n",
      "-0.00029447939856847016\n",
      "-0.0003008407444985983\n",
      "-0.00030719011816354724\n",
      "-0.0003135272668969291\n",
      "-0.00031985193848249605\n",
      "-0.00032616388124057094\n",
      "-0.00033246284397053794\n",
      "-0.00033874857600735275\n",
      "-0.00034502082719733984\n",
      "-0.0003512793479316101\n",
      "-0.0003575238891513344\n",
      "-0.00036375420233975\n",
      "-0.00036997003955541174\n",
      "-0.000376171153446736\n",
      "-0.0003823572972186384\n",
      "-0.0003885282246843813\n",
      "-0.0003946836902898321\n",
      "-0.0004008234490441853\n",
      "-0.0004069472566290422\n",
      "-0.00041305486932669\n",
      "-0.0004191460440871042\n",
      "-0.00042522053851090647\n",
      "-0.0004312781108432029\n",
      "-0.0004373185200201579\n",
      "-0.00044334152566860574\n",
      "-0.0004493468880937268\n",
      "-0.00045533436829153784\n",
      "-0.00046130372799813024\n",
      "-0.0004672547296559748\n",
      "-0.0004731871364385132\n",
      "-0.0004791007122409985\n",
      "-0.0004849952217689246\n",
      "-0.000490870430395085\n",
      "-0.0004967261043440918\n",
      "-0.0005025620105745809\n",
      "-0.0005083779168277847\n",
      "-0.0005141735916673329\n",
      "-0.0005199488044565492\n",
      "-0.00052570332534424\n",
      "-0.0005314369253286433\n",
      "-0.0005371493762453827\n",
      "-0.0005428404507624163\n",
      "-0.0005485099223755396\n",
      "-0.0005541575654875452\n",
      "-0.0005597831553317278\n",
      "-0.0005653864680472687\n",
      "-0.0005709672806076815\n",
      "-0.0005765253709674178\n",
      "-0.0005820605179113758\n",
      "-0.0005875725011416644\n",
      "-0.0005930611013496012\n",
      "-0.0005985261000863162\n",
      "-0.0006039672798499041\n",
      "-0.0006093844241367719\n",
      "-0.0006147773173463822\n",
      "-0.0006201457448589132\n",
      "-0.0006254894930540211\n",
      "-0.0006308083492430616\n",
      "-0.0006361021017825541\n",
      "-0.0006413705399948011\n",
      "-0.0006466134541983082\n",
      "-0.0006518306357716774\n",
      "-0.0006570218770753922\n",
      "-0.0006621869715280337\n",
      "-0.0006673257135784705\n",
      "-0.0006724378987278956\n",
      "-0.0006775233235217781\n",
      "-0.0006825817855801719\n",
      "-0.0006876130835881678\n",
      "-0.0006926170173469637\n",
      "-0.0006975933877346185\n",
      "-0.0007025419966257829\n",
      "-0.0007074626471929024\n",
      "-0.0007123551435341824\n",
      "-0.0007172192909938313\n",
      "-0.000722054895975599\n",
      "-0.0007268617660484145\n",
      "-0.0007316397099211835\n",
      "-0.0007363885374250256\n",
      "-0.0007411080596264608\n",
      "-0.0007457980886633742\n",
      "-0.0007504584379227075\n",
      "-0.0007550889218984613\n",
      "-0.0007596893563421858\n",
      "-0.0007642595582113554\n",
      "-0.0007687993455575137\n",
      "-0.000773308537753592\n",
      "-0.0007777869553677319\n",
      "-0.0007822344201435794\n",
      "-0.0007866507550952639\n",
      "-0.0007910357845078431\n",
      "-0.000795389333830332\n",
      "-0.0007997112298382403\n",
      "-0.0008040013004852464\n",
      "-0.0008082593751144729\n",
      "-0.0008124852842447128\n",
      "-0.0008166788596585262\n",
      "-0.0008208399345456807\n",
      "-0.0008249683432527966\n",
      "-0.0008290639215119411\n",
      "-0.0008331265063172277\n",
      "-0.0008371559360090264\n",
      "-0.0008411520502434877\n",
      "-0.0008451146899631223\n",
      "-0.000849043697470131\n",
      "-0.0008529389164527723\n",
      "-0.0008568001918160539\n",
      "-0.0008606273699799938\n",
      "-0.0008644202985983451\n",
      "-0.0008681788267180246\n",
      "-0.0008719028047839417\n",
      "-0.0008755920845862075\n",
      "-0.0008792465193260268\n",
      "-0.0008828659635385927\n",
      "-0.0008864502731924517\n",
      "-0.0008899993056679101\n",
      "-0.0008935129197307212\n",
      "-0.00089699097551732\n",
      "-0.000900433334631745\n",
      "-0.000903839860092126\n",
      "-0.0009072104163219685\n",
      "-0.0009105448692032225\n",
      "-0.0009138430860021751\n",
      "-0.0009171049355148897\n",
      "-0.0009203302878675323\n",
      "-0.0009235190147696692\n",
      "-0.0009266709892627456\n",
      "-0.0009297860859807661\n",
      "-0.0009328641808702964\n",
      "-0.0009359051515137051\n",
      "-0.000938908876849498\n",
      "-0.000941875237332912\n",
      "-0.000944804114956399\n",
      "-0.0009476953931182863\n",
      "-0.0009505489567953052\n",
      "-0.0009533646923967631\n",
      "-0.00095614248789605\n",
      "-0.0009588822327049606\n",
      "-0.0009615838178406722\n",
      "-0.0009642471357607652\n",
      "-0.0009668720804912878\n",
      "-0.0009694585475480411\n",
      "-0.000972006434025452\n",
      "-0.0009745156385143616\n",
      "-0.00097698606118235\n",
      "-0.0009794176036614366\n",
      "-0.0009818101692279368\n",
      "-0.000984163662671067\n",
      "-0.0009864779903253629\n",
      "-0.0009887530600583005\n",
      "-0.0009909887813797646\n",
      "-0.0009931850652855623\n",
      "-0.0009953418243770495\n",
      "-0.000997458972828602\n",
      "-0.0009995364263886697\n",
      "-0.001001574102375391\n",
      "-0.0010035719196997417\n",
      "-0.0010055297988585954\n",
      "-0.0010074476619443828\n",
      "-0.0010093254326005163\n",
      "-0.001011163036164664\n",
      "-0.001012960399431384\n",
      "-0.0010147174509039791\n",
      "-0.0010164341207010708\n",
      "-0.0010181103404328096\n",
      "-0.0010197460434318018\n",
      "-0.0010213411646051718\n",
      "-0.0010228956404859102\n",
      "-0.0010244094091499956\n",
      "-0.001025882410445822\n",
      "-0.0010273145856514176\n",
      "-0.0010287058778988833\n",
      "-0.0010300562316809536\n",
      "-0.0010313655933547605\n",
      "-0.0010326339108083782\n",
      "-0.0010338611334881898\n",
      "-0.0010350472126665067\n",
      "-0.001036192101059541\n",
      "-0.0010372957531255556\n",
      "-0.0010383581249823193\n",
      "-0.0010393791742942526\n",
      "-0.001040358860464552\n",
      "-0.0010412971444782593\n",
      "-0.0010421939890407628\n",
      "-0.0010430493584093758\n",
      "-0.001043863218561869\n",
      "-0.0010446355371568905\n",
      "-0.0010453662833619926\n",
      "-0.001046055428189696\n",
      "-0.0010467029441640907\n",
      "-0.0010473088055188429\n",
      "-0.0010478729881639448\n",
      "-0.001048395469641139\n",
      "-0.0010488762291475107\n",
      "-0.0010493152475663514\n",
      "-0.001049712507398215\n",
      "-0.0010500679928651668\n",
      "-0.0010503816898065343\n",
      "-0.0010506535857362498\n",
      "-0.0010508836698312485\n",
      "-0.001051071932942016\n",
      "-0.0010512183675899234\n",
      "-0.0010513229679119385\n",
      "-0.001051385729785248\n"
     ]
    }
   ],
   "source": [
    "delta = (diagonal[2]+ (pow - 1))/pow - (diagonal[0]+ (pow - 1))/pow\n",
    "print(f\"pow {pow}, delta {delta}\")\n",
    "acc = np.zeros_like(diagonal[::2])\n",
    "for i , d in enumerate(diagonal[::2]):\n",
    "    acc[i] = (d+(pow - 1))/pow\n",
    "    if i > 1:\n",
    "        print((acc[i] - acc[i-1])/(pow-1))"
   ]
  },
  {
   "cell_type": "code",
   "execution_count": 32,
   "metadata": {},
   "outputs": [
    {
     "data": {
      "text/plain": [
       "<98x98 sparse matrix of type '<class 'numpy.float64'>'\n",
       "\twith 388 stored elements in Compressed Sparse Column format>"
      ]
     },
     "execution_count": 32,
     "metadata": {},
     "output_type": "execute_result"
    }
   ],
   "source": [
    "h.v"
   ]
  },
  {
   "cell_type": "code",
   "execution_count": 33,
   "metadata": {},
   "outputs": [],
   "source": [
    "v = np.array([h.lv(x) for x in h.spl_x.collocPoints])"
   ]
  },
  {
   "cell_type": "code",
   "execution_count": 34,
   "metadata": {},
   "outputs": [
    {
     "data": {
      "text/plain": [
       "49"
      ]
     },
     "execution_count": 34,
     "metadata": {},
     "output_type": "execute_result"
    }
   ],
   "source": [
    "len(diagonal[::2])"
   ]
  },
  {
   "cell_type": "code",
   "execution_count": 40,
   "metadata": {},
   "outputs": [
    {
     "data": {
      "text/plain": [
       "[]"
      ]
     },
     "execution_count": 40,
     "metadata": {},
     "output_type": "execute_result"
    },
    {
     "data": {
      "image/png": "[encoded data removed]",
      "text/plain": [
       "<Figure size 432x288 with 1 Axes>"
      ]
     },
     "metadata": {
      "needs_background": "light"
     },
     "output_type": "display_data"
    }
   ],
   "source": [
    "plt.plot(h.spl_x.collocPoints, -v@p)\n",
    "plt.plot()"
   ]
  },
  {
   "cell_type": "code",
   "execution_count": 41,
   "metadata": {},
   "outputs": [
    {
     "data": {
      "text/plain": [
       "array([ 1.,  2.,  3.,  4.,  5.,  6.,  7.,  8.,  9., 10., 11., 12., 13.,\n",
       "       14., 15., 16., 17., 18., 19.])"
      ]
     },
     "execution_count": 41,
     "metadata": {},
     "output_type": "execute_result"
    }
   ],
   "source": [
    "np.linspace(1, 19, 19)"
   ]
  },
  {
   "cell_type": "code",
   "execution_count": null,
   "metadata": {},
   "outputs": [],
   "source": []
  },
  {
   "cell_type": "code",
   "execution_count": 42,
   "metadata": {},
   "outputs": [
    {
     "data": {
      "text/plain": [
       "matrix([[    1607.3686, -2399327.8156,      431.0264, ...,        0.    ,\n",
       "                0.    ,        0.    ],\n",
       "        [    -430.9044,  2397366.9989,    -1607.8239, ...,        0.    ,\n",
       "                0.    ,        0.    ],\n",
       "        [       0.    ,    48532.8848,      229.3418, ...,        0.    ,\n",
       "                0.    ,        0.    ],\n",
       "        ...,\n",
       "        [       0.    ,        0.    ,        0.    , ...,        0.0428,\n",
       "               -0.2294,        0.    ],\n",
       "        [       0.    ,        0.    ,        0.    , ...,        0.0389,\n",
       "                0.2196,        0.0633],\n",
       "        [       0.    ,        0.    ,        0.    , ...,       -0.0493,\n",
       "               -0.0632,       -0.2199]])"
      ]
     },
     "execution_count": 42,
     "metadata": {},
     "output_type": "execute_result"
    }
   ],
   "source": [
    "np.set_printoptions(precision=4,suppress=True)\n",
    "h.h.todense()"
   ]
  },
  {
   "cell_type": "code",
   "execution_count": null,
   "metadata": {},
   "outputs": [],
   "source": []
  },
  {
   "cell_type": "code",
   "execution_count": 43,
   "metadata": {},
   "outputs": [
    {
     "ename": "ValueError",
     "evalue": "shapes (38,) and (98,) not aligned: 38 (dim 0) != 98 (dim 0)",
     "output_type": "error",
     "traceback": [
      "\u001b[0;31m---------------------------------------------------------------------------\u001b[0m",
      "\u001b[0;31mValueError\u001b[0m                                Traceback (most recent call last)",
      "\u001b[0;32m/var/folders/9j/rj279c8x09zfknrp0x7xqkz40000gp/T/ipykernel_92869/3877192161.py\u001b[0m in \u001b[0;36m<module>\u001b[0;34m\u001b[0m\n\u001b[1;32m      1\u001b[0m \u001b[0mt\u001b[0m \u001b[0;34m=\u001b[0m \u001b[0mnp\u001b[0m\u001b[0;34m.\u001b[0m\u001b[0mlinspace\u001b[0m\u001b[0;34m(\u001b[0m\u001b[0;36m0\u001b[0m\u001b[0;34m,\u001b[0m \u001b[0;36m40\u001b[0m\u001b[0;34m,\u001b[0m \u001b[0;36m100\u001b[0m\u001b[0;34m)\u001b[0m\u001b[0;34m\u001b[0m\u001b[0;34m\u001b[0m\u001b[0m\n\u001b[1;32m      2\u001b[0m \u001b[0;34m\u001b[0m\u001b[0m\n\u001b[0;32m----> 3\u001b[0;31m \u001b[0mx\u001b[0m \u001b[0;34m=\u001b[0m \u001b[0;34m[\u001b[0m\u001b[0mh\u001b[0m\u001b[0;34m.\u001b[0m\u001b[0msplinef\u001b[0m\u001b[0;34m(\u001b[0m\u001b[0mevecs\u001b[0m\u001b[0;34m[\u001b[0m\u001b[0;34m:\u001b[0m\u001b[0;34m,\u001b[0m \u001b[0;36m0\u001b[0m\u001b[0;34m]\u001b[0m\u001b[0;34m,\u001b[0m \u001b[0mti\u001b[0m\u001b[0;34m)\u001b[0m \u001b[0;32mfor\u001b[0m \u001b[0mti\u001b[0m \u001b[0;32min\u001b[0m \u001b[0mt\u001b[0m\u001b[0;34m]\u001b[0m\u001b[0;34m\u001b[0m\u001b[0;34m\u001b[0m\u001b[0m\n\u001b[0m\u001b[1;32m      4\u001b[0m \u001b[0mplt\u001b[0m\u001b[0;34m.\u001b[0m\u001b[0mplot\u001b[0m\u001b[0;34m(\u001b[0m\u001b[0mt\u001b[0m\u001b[0;34m,\u001b[0m \u001b[0mx\u001b[0m\u001b[0;34m)\u001b[0m\u001b[0;34m\u001b[0m\u001b[0;34m\u001b[0m\u001b[0m\n\u001b[1;32m      5\u001b[0m \u001b[0mplt\u001b[0m\u001b[0;34m.\u001b[0m\u001b[0mshow\u001b[0m\u001b[0;34m(\u001b[0m\u001b[0;34m)\u001b[0m\u001b[0;34m\u001b[0m\u001b[0;34m\u001b[0m\u001b[0m\n",
      "\u001b[0;32m/var/folders/9j/rj279c8x09zfknrp0x7xqkz40000gp/T/ipykernel_92869/3877192161.py\u001b[0m in \u001b[0;36m<listcomp>\u001b[0;34m(.0)\u001b[0m\n\u001b[1;32m      1\u001b[0m \u001b[0mt\u001b[0m \u001b[0;34m=\u001b[0m \u001b[0mnp\u001b[0m\u001b[0;34m.\u001b[0m\u001b[0mlinspace\u001b[0m\u001b[0;34m(\u001b[0m\u001b[0;36m0\u001b[0m\u001b[0;34m,\u001b[0m \u001b[0;36m40\u001b[0m\u001b[0;34m,\u001b[0m \u001b[0;36m100\u001b[0m\u001b[0;34m)\u001b[0m\u001b[0;34m\u001b[0m\u001b[0;34m\u001b[0m\u001b[0m\n\u001b[1;32m      2\u001b[0m \u001b[0;34m\u001b[0m\u001b[0m\n\u001b[0;32m----> 3\u001b[0;31m \u001b[0mx\u001b[0m \u001b[0;34m=\u001b[0m \u001b[0;34m[\u001b[0m\u001b[0mh\u001b[0m\u001b[0;34m.\u001b[0m\u001b[0msplinef\u001b[0m\u001b[0;34m(\u001b[0m\u001b[0mevecs\u001b[0m\u001b[0;34m[\u001b[0m\u001b[0;34m:\u001b[0m\u001b[0;34m,\u001b[0m \u001b[0;36m0\u001b[0m\u001b[0;34m]\u001b[0m\u001b[0;34m,\u001b[0m \u001b[0mti\u001b[0m\u001b[0;34m)\u001b[0m \u001b[0;32mfor\u001b[0m \u001b[0mti\u001b[0m \u001b[0;32min\u001b[0m \u001b[0mt\u001b[0m\u001b[0;34m]\u001b[0m\u001b[0;34m\u001b[0m\u001b[0;34m\u001b[0m\u001b[0m\n\u001b[0m\u001b[1;32m      4\u001b[0m \u001b[0mplt\u001b[0m\u001b[0;34m.\u001b[0m\u001b[0mplot\u001b[0m\u001b[0;34m(\u001b[0m\u001b[0mt\u001b[0m\u001b[0;34m,\u001b[0m \u001b[0mx\u001b[0m\u001b[0;34m)\u001b[0m\u001b[0;34m\u001b[0m\u001b[0;34m\u001b[0m\u001b[0m\n\u001b[1;32m      5\u001b[0m \u001b[0mplt\u001b[0m\u001b[0;34m.\u001b[0m\u001b[0mshow\u001b[0m\u001b[0;34m(\u001b[0m\u001b[0;34m)\u001b[0m\u001b[0;34m\u001b[0m\u001b[0;34m\u001b[0m\u001b[0m\n",
      "\u001b[0;32m~/physics/Faddeev/TDFE/python/radial.py\u001b[0m in \u001b[0;36msplinef\u001b[0;34m(self, evec, x)\u001b[0m\n\u001b[1;32m     81\u001b[0m             \u001b[0mvalues\u001b[0m\u001b[0;34m[\u001b[0m\u001b[0mj\u001b[0m\u001b[0;34m]\u001b[0m \u001b[0;34m=\u001b[0m \u001b[0mself\u001b[0m\u001b[0;34m.\u001b[0m\u001b[0mspl_x\u001b[0m\u001b[0;34m.\u001b[0m\u001b[0mfBSplineBC\u001b[0m\u001b[0;34m(\u001b[0m\u001b[0mx\u001b[0m\u001b[0;34m,\u001b[0m \u001b[0mj\u001b[0m\u001b[0;34m)\u001b[0m\u001b[0;34m\u001b[0m\u001b[0;34m\u001b[0m\u001b[0m\n\u001b[1;32m     82\u001b[0m \u001b[0;34m\u001b[0m\u001b[0m\n\u001b[0;32m---> 83\u001b[0;31m         \u001b[0;32mreturn\u001b[0m \u001b[0mevec\u001b[0m\u001b[0;34m.\u001b[0m\u001b[0mdot\u001b[0m\u001b[0;34m(\u001b[0m\u001b[0mvalues\u001b[0m\u001b[0;34m)\u001b[0m\u001b[0;34m\u001b[0m\u001b[0;34m\u001b[0m\u001b[0m\n\u001b[0m\u001b[1;32m     84\u001b[0m \u001b[0;34m\u001b[0m\u001b[0m\n\u001b[1;32m     85\u001b[0m     \u001b[0;32mdef\u001b[0m \u001b[0mexp_hamiltonian\u001b[0m\u001b[0;34m(\u001b[0m\u001b[0mself\u001b[0m\u001b[0;34m,\u001b[0m \u001b[0mdt\u001b[0m\u001b[0;34m=\u001b[0m\u001b[0;36m1e-2\u001b[0m\u001b[0;34m,\u001b[0m \u001b[0;34m**\u001b[0m\u001b[0mkwargs\u001b[0m\u001b[0;34m)\u001b[0m\u001b[0;34m:\u001b[0m\u001b[0;34m\u001b[0m\u001b[0;34m\u001b[0m\u001b[0m\n",
      "\u001b[0;31mValueError\u001b[0m: shapes (38,) and (98,) not aligned: 38 (dim 0) != 98 (dim 0)"
     ]
    }
   ],
   "source": [
    "t = np.linspace(0, 40, 100)\n",
    "\n",
    "x = [h.splinef(evecs[:, 0], ti) for ti in t]\n",
    "plt.plot(t, x)\n",
    "plt.show()"
   ]
  },
  {
   "cell_type": "code",
   "execution_count": null,
   "metadata": {},
   "outputs": [],
   "source": []
  }
 ],
 "metadata": {
  "interpreter": {
   "hash": "f3f2fbb322cb053f31c9cafe26c9fea574d535cbb59c7534eb68160168429f5a"
  },
  "kernelspec": {
   "display_name": "Python 3.7.11 ('venv': venv)",
   "language": "python",
   "name": "python3"
  },
  "language_info": {
   "codemirror_mode": {
    "name": "ipython",
    "version": 3
   },
   "file_extension": ".py",
   "mimetype": "text/x-python",
   "name": "python",
   "nbconvert_exporter": "python",
   "pygments_lexer": "ipython3",
   "version": "3.7.11"
  },
  "orig_nbformat": 4
 },
 "nbformat": 4,
 "nbformat_minor": 2
}
